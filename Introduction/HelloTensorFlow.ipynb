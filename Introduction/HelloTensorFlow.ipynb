{
 "cells": [
  {
   "cell_type": "code",
   "execution_count": 1,
   "metadata": {
    "ExecuteTime": {
     "end_time": "2019-05-19T16:06:41.908618+08:00",
     "start_time": "2019-05-19T16:06:41.545305Z"
    },
    "scrolled": true
   },
   "outputs": [],
   "source": [
    "import tensorflow as tf"
   ]
  },
  {
   "cell_type": "markdown",
   "metadata": {},
   "source": [
    "# 打印一个常量字符串"
   ]
  },
  {
   "cell_type": "code",
   "execution_count": 2,
   "metadata": {},
   "outputs": [],
   "source": [
    "hello = tf.constant(\"Hello, TensorFlow!\")"
   ]
  },
  {
   "cell_type": "code",
   "execution_count": 3,
   "metadata": {},
   "outputs": [
    {
     "name": "stdout",
     "output_type": "stream",
     "text": [
      "Tensor(\"Const:0\", shape=(), dtype=string)\n"
     ]
    }
   ],
   "source": [
    "# 直接打印不会输出变量的值，只输出变量的类型\n",
    "print(hello)"
   ]
  },
  {
   "cell_type": "code",
   "execution_count": 4,
   "metadata": {},
   "outputs": [
    {
     "name": "stdout",
     "output_type": "stream",
     "text": [
      "b'Hello, TensorFlow!'\n"
     ]
    }
   ],
   "source": [
    "# 通过定义一个 Session，来执行定义好的运算\n",
    "with tf.Session() as sess:\n",
    "    hello_val = sess.run(hello)\n",
    "    print(hello_val)"
   ]
  },
  {
   "cell_type": "markdown",
   "metadata": {},
   "source": [
    "# 数学运算"
   ]
  },
  {
   "cell_type": "code",
   "execution_count": 5,
   "metadata": {},
   "outputs": [],
   "source": [
    "a = tf.constant([[1.0, 2.0],\n",
    "                 [2.0, 3.0]])\n",
    "\n",
    "b = tf.constant([[3.0, 4.0],\n",
    "                 [4.0, 5.0]])\n",
    "\n",
    "c = tf.add(a, b)\n",
    "d = tf.subtract(a, b)\n",
    "e = tf.matmul(a, b)\n",
    "f = tf.div(a, b)"
   ]
  },
  {
   "cell_type": "code",
   "execution_count": 6,
   "metadata": {},
   "outputs": [
    {
     "name": "stdout",
     "output_type": "stream",
     "text": [
      "c: [[4. 6.]\n",
      " [6. 8.]] \n",
      "\n",
      " d: [[-2. -2.]\n",
      " [-2. -2.]] \n",
      "\n",
      " e: [[11. 14.]\n",
      " [18. 23.]] \n",
      "\n",
      " f: [[0.33333334 0.5       ]\n",
      " [0.5        0.6       ]]\n"
     ]
    }
   ],
   "source": [
    "# 通过定义一个 Session，来执行定义好的运算\n",
    "with tf.Session() as sess:\n",
    "    c_val, d_val, e_val, f_val = sess.run([c, d, e, f])\n",
    "    print(\"c: {} \\n\\n d: {} \\n\\n e: {} \\n\\n f: {}\".format(c_val, d_val, e_val, f_val))"
   ]
  },
  {
   "cell_type": "code",
   "execution_count": null,
   "metadata": {},
   "outputs": [],
   "source": []
  }
 ],
 "metadata": {
  "kernelspec": {
   "display_name": "Python 3",
   "language": "python",
   "name": "python3"
  },
  "language_info": {
   "codemirror_mode": {
    "name": "ipython",
    "version": 3
   },
   "file_extension": ".py",
   "mimetype": "text/x-python",
   "name": "python",
   "nbconvert_exporter": "python",
   "pygments_lexer": "ipython3",
   "version": "3.6.5"
  },
  "toc": {
   "colors": {
    "hover_highlight": "#DAA520",
    "navigate_num": "#000000",
    "navigate_text": "#333333",
    "running_highlight": "#FF0000",
    "selected_highlight": "#FFD700",
    "sidebar_border": "#EEEEEE",
    "wrapper_background": "#FFFFFF"
   },
   "moveMenuLeft": true,
   "nav_menu": {},
   "navigate_menu": true,
   "number_sections": true,
   "sideBar": true,
   "skip_h1_title": false,
   "threshold": 4,
   "toc_cell": false,
   "toc_position": {},
   "toc_section_display": "block",
   "toc_window_display": false,
   "widenNotebook": false
  }
 },
 "nbformat": 4,
 "nbformat_minor": 2
}
