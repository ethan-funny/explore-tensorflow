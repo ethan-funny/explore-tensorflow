{
 "cells": [
  {
   "cell_type": "markdown",
   "metadata": {},
   "source": [
    "# TFRecord 简介"
   ]
  },
  {
   "cell_type": "markdown",
   "metadata": {},
   "source": [
    "TensorFlow 提供了一种标准的文件格式来存储数据，这个格式就是 [TFRecord](https://www.tensorflow.org/tutorials/load_data/tf_records)。它是一种二进制文件格式，理论上可以保存任何格式的数据。它能更好地利用内存，在 TensorFlow 中快速地复制、移动、读取和存储等。\n",
    "\n",
    "TFRecord 文件中的数据是通过 `tf.train.Example` [Protocol Buffer](https://www.ibm.com/developerworks/cn/linux/l-cn-gpb/) (简称 PB，谷歌开源的一种数据传输协议) 的格式存储的，数据格式定义在 [example.proto](https://github.com/tensorflow/tensorflow/blob/master/tensorflow/core/example/example.proto) 和 [feature.proto](https://github.com/tensorflow/tensorflow/blob/master/tensorflow/core/example/feature.proto) 中，如下:\n",
    "\n",
    "```\n",
    "message Example {\n",
    "  Features features = 1;\n",
    "};\n",
    "\n",
    "message Features {\n",
    "  // Map from feature name to feature.\n",
    "  map<string, Feature> feature = 1;\n",
    "};\n",
    "\n",
    "message Feature {\n",
    "  // Each feature can be exactly one kind.\n",
    "  oneof kind {\n",
    "    BytesList bytes_list = 1;\n",
    "    FloatList float_list = 2;\n",
    "    Int64List int64_list = 3;\n",
    "  }\n",
    "};\n",
    "\n",
    "\n",
    "message BytesList {\n",
    "  repeated bytes value = 1;\n",
    "}\n",
    "message FloatList {\n",
    "  repeated float value = 1 [packed = true];\n",
    "}\n",
    "message Int64List {\n",
    "  repeated int64 value = 1 [packed = true];\n",
    "}\n",
    "```\n",
    "\n",
    "其中，`Example` 对应了 `tf.train.Example`，`Features` 对应了 `tf.train.Features`，`Feature` 对应了 `tf.train.Feature`。从 `Example` 的定义可以知道，`tf.train.Example` 包含了一个 `{\"string\": tf.train.Feature}` 的字典，其中属性名称为一个字符串，属性的取值可以为字符串 (BytesList)，实数列表 (FloatList) 或整数列表 (Int64List)。"
   ]
  },
  {
   "cell_type": "markdown",
   "metadata": {},
   "source": [
    "## 创建 tf.train.Feature 对象"
   ]
  },
  {
   "cell_type": "markdown",
   "metadata": {},
   "source": [
    "让我们先来看 `tf.train.Feature`，它的取值可以是 BytesList, FloatList 或 Int64List。"
   ]
  },
  {
   "cell_type": "code",
   "execution_count": 1,
   "metadata": {},
   "outputs": [],
   "source": [
    "import tensorflow as tf\n",
    "\n",
    "\n",
    "# The following functions can be used to convert value to a type compatible with tf.Example.\n",
    "def _bytes_feature(value):\n",
    "    \"\"\"Returns a bytes_list from string / byte.\"\"\"\n",
    "    return tf.train.Feature(bytes_list=tf.train.BytesList(value=value))\n",
    "\n",
    "def _float_feature(value):\n",
    "    \"\"\"Returns a float_list from float / double.\"\"\"\n",
    "    return tf.train.Feature(float_list=tf.train.FloatList(value=value))\n",
    "\n",
    "def _int64_feature(value):\n",
    "    \"\"\"Returns an int64_list from bool / enum / int / uint.\"\"\"\n",
    "    return tf.train.Feature(int64_list=tf.train.Int64List(value=value))"
   ]
  },
  {
   "cell_type": "code",
   "execution_count": 2,
   "metadata": {},
   "outputs": [],
   "source": [
    "bytes_feat = _bytes_feature([b'Hello World', b'Hello TensorFlow'])\n",
    "float_feat = _float_feature([3.14, 6.28])\n",
    "int_feat   = _int64_feature([1024, 2048])"
   ]
  },
  {
   "cell_type": "code",
   "execution_count": 3,
   "metadata": {},
   "outputs": [
    {
     "data": {
      "text/plain": [
       "tensorflow.core.example.feature_pb2.Feature"
      ]
     },
     "execution_count": 3,
     "metadata": {},
     "output_type": "execute_result"
    }
   ],
   "source": [
    "type(bytes_feat)"
   ]
  },
  {
   "cell_type": "code",
   "execution_count": 4,
   "metadata": {},
   "outputs": [
    {
     "name": "stdout",
     "output_type": "stream",
     "text": [
      "bytes_list {\n",
      "  value: \"Hello World\"\n",
      "  value: \"Hello TensorFlow\"\n",
      "}\n",
      "\n"
     ]
    }
   ],
   "source": [
    "print(bytes_feat)"
   ]
  },
  {
   "cell_type": "code",
   "execution_count": 5,
   "metadata": {},
   "outputs": [
    {
     "name": "stdout",
     "output_type": "stream",
     "text": [
      "float_list {\n",
      "  value: 3.140000104904175\n",
      "  value: 6.28000020980835\n",
      "}\n",
      "\n"
     ]
    }
   ],
   "source": [
    "print(float_feat)"
   ]
  },
  {
   "cell_type": "code",
   "execution_count": 6,
   "metadata": {},
   "outputs": [
    {
     "name": "stdout",
     "output_type": "stream",
     "text": [
      "int64_list {\n",
      "  value: 1024\n",
      "  value: 2048\n",
      "}\n",
      "\n"
     ]
    }
   ],
   "source": [
    "print(int_feat)"
   ]
  },
  {
   "cell_type": "markdown",
   "metadata": {},
   "source": [
    "这些 proto messages 可以通过使用 `SerializeToString` 方法将它们序列化为二进制字符串:"
   ]
  },
  {
   "cell_type": "code",
   "execution_count": 7,
   "metadata": {},
   "outputs": [],
   "source": [
    "serialized_feat = int_feat.SerializeToString()"
   ]
  },
  {
   "cell_type": "code",
   "execution_count": 8,
   "metadata": {},
   "outputs": [
    {
     "data": {
      "text/plain": [
       "bytes"
      ]
     },
     "execution_count": 8,
     "metadata": {},
     "output_type": "execute_result"
    }
   ],
   "source": [
    "type(serialized_feat)"
   ]
  },
  {
   "cell_type": "code",
   "execution_count": 9,
   "metadata": {},
   "outputs": [
    {
     "name": "stdout",
     "output_type": "stream",
     "text": [
      "b'\\x1a\\x06\\n\\x04\\x80\\x08\\x80\\x10'\n"
     ]
    }
   ],
   "source": [
    "print(serialized_feat)"
   ]
  },
  {
   "cell_type": "markdown",
   "metadata": {},
   "source": [
    "## 创建 tf.train.Example message"
   ]
  },
  {
   "cell_type": "markdown",
   "metadata": {},
   "source": [
    "根据 `Example` 的定义，我们可以对应地生成 `tf.train.Example` message:"
   ]
  },
  {
   "cell_type": "code",
   "execution_count": 10,
   "metadata": {},
   "outputs": [],
   "source": [
    "def serialize_example():\n",
    "    \"\"\"\n",
    "    Creates a tf.Example message ready to be written to a file.\n",
    "    \"\"\"\n",
    "    \n",
    "    # Create a dictionary mapping the feature name to the tf.Example-compatible data type.\n",
    "    feature = {\n",
    "        \"user_id\": _int64_feature([1]),\n",
    "        \"gender\": _bytes_feature([b'male']),\n",
    "        \"age\": _int64_feature([20]),\n",
    "        \"weight\": _float_feature([45.6])\n",
    "    }\n",
    "    \n",
    "    # Create a Features message using tf.train.Example.\n",
    "    example_proto = tf.train.Example(features=tf.train.Features(feature=feature))\n",
    "    \n",
    "    # proto messages can be serialized to a binary-string using the .SerializeToString method\n",
    "    serialized_example = example_proto.SerializeToString()\n",
    "    \n",
    "    return example_proto, serialized_example"
   ]
  },
  {
   "cell_type": "code",
   "execution_count": 11,
   "metadata": {},
   "outputs": [],
   "source": [
    "example_proto, serialized_example = serialize_example()"
   ]
  },
  {
   "cell_type": "code",
   "execution_count": 12,
   "metadata": {
    "scrolled": true
   },
   "outputs": [
    {
     "data": {
      "text/plain": [
       "tensorflow.core.example.example_pb2.Example"
      ]
     },
     "execution_count": 12,
     "metadata": {},
     "output_type": "execute_result"
    }
   ],
   "source": [
    "type(example_proto)"
   ]
  },
  {
   "cell_type": "code",
   "execution_count": 13,
   "metadata": {},
   "outputs": [
    {
     "data": {
      "text/plain": [
       "bytes"
      ]
     },
     "execution_count": 13,
     "metadata": {},
     "output_type": "execute_result"
    }
   ],
   "source": [
    "type(serialized_example)"
   ]
  },
  {
   "cell_type": "code",
   "execution_count": 14,
   "metadata": {
    "scrolled": true
   },
   "outputs": [
    {
     "name": "stdout",
     "output_type": "stream",
     "text": [
      "features {\n",
      "  feature {\n",
      "    key: \"age\"\n",
      "    value {\n",
      "      int64_list {\n",
      "        value: 20\n",
      "      }\n",
      "    }\n",
      "  }\n",
      "  feature {\n",
      "    key: \"gender\"\n",
      "    value {\n",
      "      bytes_list {\n",
      "        value: \"male\"\n",
      "      }\n",
      "    }\n",
      "  }\n",
      "  feature {\n",
      "    key: \"user_id\"\n",
      "    value {\n",
      "      int64_list {\n",
      "        value: 1\n",
      "      }\n",
      "    }\n",
      "  }\n",
      "  feature {\n",
      "    key: \"weight\"\n",
      "    value {\n",
      "      float_list {\n",
      "        value: 45.599998474121094\n",
      "      }\n",
      "    }\n",
      "  }\n",
      "}\n",
      "\n"
     ]
    }
   ],
   "source": [
    "print(example_proto)"
   ]
  },
  {
   "cell_type": "code",
   "execution_count": 15,
   "metadata": {},
   "outputs": [
    {
     "name": "stdout",
     "output_type": "stream",
     "text": [
      "b'\\nH\\n\\x12\\n\\x06gender\\x12\\x08\\n\\x06\\n\\x04male\\n\\x12\\n\\x06weight\\x12\\x08\\x12\\x06\\n\\x04ff6B\\n\\x0c\\n\\x03age\\x12\\x05\\x1a\\x03\\n\\x01\\x14\\n\\x10\\n\\x07user_id\\x12\\x05\\x1a\\x03\\n\\x01\\x01'\n"
     ]
    }
   ],
   "source": [
    "print(serialized_example)"
   ]
  },
  {
   "cell_type": "markdown",
   "metadata": {},
   "source": [
    "为了解析 `serialized_example`，我们可以使用 `tf.train.Example.FromString` 方法:"
   ]
  },
  {
   "cell_type": "code",
   "execution_count": 16,
   "metadata": {},
   "outputs": [],
   "source": [
    "decoded_serialized_example = tf.train.Example.FromString(serialized_example)"
   ]
  },
  {
   "cell_type": "code",
   "execution_count": 17,
   "metadata": {},
   "outputs": [
    {
     "data": {
      "text/plain": [
       "tensorflow.core.example.example_pb2.Example"
      ]
     },
     "execution_count": 17,
     "metadata": {},
     "output_type": "execute_result"
    }
   ],
   "source": [
    "type(decoded_serialized_example)"
   ]
  },
  {
   "cell_type": "code",
   "execution_count": 18,
   "metadata": {
    "scrolled": true
   },
   "outputs": [
    {
     "name": "stdout",
     "output_type": "stream",
     "text": [
      "features {\n",
      "  feature {\n",
      "    key: \"age\"\n",
      "    value {\n",
      "      int64_list {\n",
      "        value: 20\n",
      "      }\n",
      "    }\n",
      "  }\n",
      "  feature {\n",
      "    key: \"gender\"\n",
      "    value {\n",
      "      bytes_list {\n",
      "        value: \"male\"\n",
      "      }\n",
      "    }\n",
      "  }\n",
      "  feature {\n",
      "    key: \"user_id\"\n",
      "    value {\n",
      "      int64_list {\n",
      "        value: 1\n",
      "      }\n",
      "    }\n",
      "  }\n",
      "  feature {\n",
      "    key: \"weight\"\n",
      "    value {\n",
      "      float_list {\n",
      "        value: 45.599998474121094\n",
      "      }\n",
      "    }\n",
      "  }\n",
      "}\n",
      "\n"
     ]
    }
   ],
   "source": [
    "print(decoded_serialized_example)"
   ]
  },
  {
   "cell_type": "markdown",
   "metadata": {},
   "source": [
    "可以看到, `decoded_serialized_example` 跟 `serialized_example` 序列化前的 `example_proto` 是相同的，说明正确解析。"
   ]
  },
  {
   "cell_type": "markdown",
   "metadata": {},
   "source": [
    "另外，`example_proto` 是一个 `Example` 对象，我们如果想访问 `age` 这个属性的值，可以这样做:"
   ]
  },
  {
   "cell_type": "code",
   "execution_count": 19,
   "metadata": {},
   "outputs": [
    {
     "data": {
      "text/plain": [
       "[20]"
      ]
     },
     "execution_count": 19,
     "metadata": {},
     "output_type": "execute_result"
    }
   ],
   "source": [
    "example_proto.features.feature[\"age\"].int64_list.value"
   ]
  },
  {
   "cell_type": "markdown",
   "metadata": {},
   "source": [
    "# 生成 TFRecord 文件"
   ]
  },
  {
   "cell_type": "markdown",
   "metadata": {},
   "source": [
    "TFRecord 文件的生成过程使用了前面介绍的几个类：`tf.train.Example`, `tf.train.Features`, `tf.train.Feature`，知道了这几个类的定义以及它们的嵌套关系，再去理解 TFRecord 的生成就容易多了。  \n",
    "\n",
    "每个 TFRecord 文件的基本元素是 `tf.train.Example`，其对应的是一个样本数据，每个 Example 包含 Features，存储该样本的各个 feature，每个 feature 包含一个键值对，分别对应 feature 的特征名与实际值。\n",
    "\n",
    "`tf.python_io` 这个模块提供了纯 Python 实现的用于读写 TFRecord 文件的函数:\n",
    "\n",
    "- `tf.python_io.TFRecordWriter`: 用于将序列化为二进制字符串的 example 写入文件\n",
    "- `tf.python_io.tf_record_iterator`: 返回一个读取二进制字符串的迭代器 (iterator)"
   ]
  },
  {
   "cell_type": "markdown",
   "metadata": {},
   "source": [
    "## 创建 TFRecord 文件"
   ]
  },
  {
   "cell_type": "markdown",
   "metadata": {},
   "source": [
    "创建 TFRecord 文件，主要通过 TF 中的 `tf.python_io.TFRecordWriter` 函数来实现，示例代码如下:"
   ]
  },
  {
   "cell_type": "code",
   "execution_count": 20,
   "metadata": {},
   "outputs": [],
   "source": [
    "# 创建向 TFRecord 文件写记录的 writer\n",
    "writer = tf.python_io.TFRecordWriter(\"test.tfrecord\")\n",
    "\n",
    "# 循环构造输入样例\n",
    "for i in range(4):\n",
    "    # 创建 example\n",
    "    example = tf.train.Example(\n",
    "        features=tf.train.Features(\n",
    "            feature={\n",
    "                \"label\": _int64_feature([i]),\n",
    "                \"index\": _int64_feature([i, i+1, i+2]),\n",
    "                \"value\": _float_feature([i*0.1, i*0.2, i*0.3])\n",
    "            }\n",
    "        )\n",
    "    )\n",
    "    # 将 example 序列化为二进制字符串后，写入 test.tfrecord\n",
    "    writer.write(example.SerializeToString())\n",
    "    \n",
    "# 关闭输出流\n",
    "writer.close()"
   ]
  },
  {
   "cell_type": "markdown",
   "metadata": {},
   "source": [
    "## 读取 TFRecord 文件"
   ]
  },
  {
   "cell_type": "markdown",
   "metadata": {},
   "source": [
    "上面我们创建了 TFRecord 文件，接着我们可以用 TFRecord 的 Python 接口来读取它们，主要是 `tf.python_io.tf_record_iterator` 函数，它输入 TFRecord 文件，得到一个迭代器，每个元素是一个已经序列化为二进制字符串的 Example，可以再通过 `ParseFromString` 方法来解析。代码如下:"
   ]
  },
  {
   "cell_type": "code",
   "execution_count": 21,
   "metadata": {},
   "outputs": [
    {
     "name": "stdout",
     "output_type": "stream",
     "text": [
      "[string_reocrd]: b'\\n=\\n\\x10\\n\\x05index\\x12\\x07\\x1a\\x05\\n\\x03\\x00\\x01\\x02\\n\\x19\\n\\x05value\\x12\\x10\\x12\\x0e\\n\\x0c\\x00\\x00\\x00\\x00\\x00\\x00\\x00\\x00\\x00\\x00\\x00\\x00\\n\\x0e\\n\\x05label\\x12\\x05\\x1a\\x03\\n\\x01\\x00'\n",
      "[example_proto]: features {\n",
      "  feature {\n",
      "    key: \"index\"\n",
      "    value {\n",
      "      int64_list {\n",
      "        value: 0\n",
      "        value: 1\n",
      "        value: 2\n",
      "      }\n",
      "    }\n",
      "  }\n",
      "  feature {\n",
      "    key: \"label\"\n",
      "    value {\n",
      "      int64_list {\n",
      "        value: 0\n",
      "      }\n",
      "    }\n",
      "  }\n",
      "  feature {\n",
      "    key: \"value\"\n",
      "    value {\n",
      "      float_list {\n",
      "        value: 0.0\n",
      "        value: 0.0\n",
      "        value: 0.0\n",
      "      }\n",
      "    }\n",
      "  }\n",
      "}\n",
      "\n",
      "[value of example]: [0.0, 0.0, 0.0]\n"
     ]
    }
   ],
   "source": [
    "record_iterator = tf.python_io.tf_record_iterator(\"test.tfrecord\")\n",
    "\n",
    "for string_record in record_iterator:\n",
    "    print(\"[string_reocrd]: {}\".format(string_record))\n",
    "    \n",
    "    example = tf.train.Example()\n",
    "    example.ParseFromString(string_record)\n",
    "    \n",
    "    print(\"[example_proto]: {}\".format(example))\n",
    "    print(\"[value of example]: {}\".format(example.features.feature[\"value\"].float_list.value))\n",
    "    \n",
    "    # Exit after 1 iteration\n",
    "    break"
   ]
  },
  {
   "cell_type": "markdown",
   "metadata": {},
   "source": [
    "## 使用队列读取 TFRecord 文件"
   ]
  },
  {
   "cell_type": "markdown",
   "metadata": {},
   "source": [
    "上面是纯 Python 的读取方式，但不是一种高效的方式，TF 提供了使用 TFRecords 文件建立输入流水线的方式。在 `tf.data` 出现之前，使用的是 `QueueRunner` 方式，即文件队列机制，这种方式目前已经不用了，这里仅给出示例代码:"
   ]
  },
  {
   "cell_type": "code",
   "execution_count": 22,
   "metadata": {},
   "outputs": [],
   "source": [
    "def get_serialized_examples(filename_queue):\n",
    "    num_records = 2000\n",
    "    reader = tf.TFRecordReader()\n",
    "    _, serialized_example = reader.read_up_to(filename_queue, num_records)\n",
    "    \n",
    "    return serialized_example\n",
    "\n",
    "def input_pipeline(filenames, batch_size, num_epochs=None):\n",
    "    filename_queue = tf.train.string_input_producer(\n",
    "        tf.train.match_filenames_once(filenames),\n",
    "        num_epochs=num_epochs, shuffle=False)\n",
    "    \n",
    "    serialized_example = get_serialized_examples(filename_queue)\n",
    "    \n",
    "    # min_after_dequeue 表示从样例队列中出队的样例个数\n",
    "    # 值越大表示打乱顺序效果越好，同时意味着消耗更多内存\n",
    "    min_after_dequeue = 1000\n",
    "    \n",
    "    # capacity 表示批数据队列的容量，推荐设置\n",
    "    # min_after_dequeue + (num_threads + a small safety margin) * batch_size\n",
    "    capacity = min_after_dequeue + 5 * batch_size\n",
    "    \n",
    "    num_threads = 4\n",
    "    \n",
    "    # 序列化为二进制字符串的 Example\n",
    "    batch_serialized_example = tf.train.shuffle_batch(\n",
    "        [serialized_example],\n",
    "        batch_size=batch_size,\n",
    "        num_threads=num_threads,\n",
    "        capacity=capacity,\n",
    "        enqueue_many=True,\n",
    "        min_after_dequeue=min_after_dequeue,\n",
    "        allow_smaller_final_batch=True)\n",
    "    \n",
    "#     features = {\n",
    "#         \"label\": tf.FixedLenFeature([], tf.int64),\n",
    "#         \"index\": tf.VarLenFeature(tf.int64),\n",
    "#         \"value\": tf.VarLenFeature(tf.float32)\n",
    "#     }\n",
    "    \n",
    "    features = {\n",
    "        \"label\": tf.FixedLenFeature([], tf.int64),\n",
    "        \"index\": tf.FixedLenFeature([3], tf.int64),\n",
    "        \"value\": tf.FixedLenFeature([3], tf.float32)\n",
    "    }\n",
    "    \n",
    "    # 解析 Example\n",
    "    parsed_features = tf.parse_example(batch_serialized_example, features=features)\n",
    "    \n",
    "    batch_labels = parsed_features[\"label\"]\n",
    "    batch_index  = parsed_features[\"index\"]\n",
    "    batch_value  = parsed_features[\"value\"]\n",
    "    \n",
    "    return batch_serialized_example, batch_labels, batch_index, batch_value"
   ]
  },
  {
   "cell_type": "code",
   "execution_count": 23,
   "metadata": {},
   "outputs": [],
   "source": [
    "batch_serialized_example, batch_labels, batch_index, batch_value = input_pipeline(\"test.tfrecord\", 2, num_epochs=1)\n",
    "\n",
    "init_op = [tf.global_variables_initializer(), tf.local_variables_initializer()]\n",
    "with tf.Session() as sess:\n",
    "    sess.run(init_op)\n",
    "    coord = tf.train.Coordinator()\n",
    "    threads = tf.train.start_queue_runners(coord=coord, sess=sess)\n",
    "    try:\n",
    "        while not coord.should_stop():\n",
    "            _batch_serialized_example, _batch_labels, _batch_index, _batch_value = sess.run(\n",
    "                [batch_serialized_example, batch_labels, batch_index, batch_value])\n",
    "\n",
    "            break\n",
    "    except tf.errors.OutOfRangeError:\n",
    "        print(\"Finish\")\n",
    "    finally:\n",
    "        coord.request_stop()\n",
    "    coord.join(threads)"
   ]
  },
  {
   "cell_type": "code",
   "execution_count": 24,
   "metadata": {},
   "outputs": [
    {
     "data": {
      "text/plain": [
       "array([b'\\n=\\n\\x10\\n\\x05index\\x12\\x07\\x1a\\x05\\n\\x03\\x01\\x02\\x03\\n\\x19\\n\\x05value\\x12\\x10\\x12\\x0e\\n\\x0c\\xcd\\xcc\\xcc=\\xcd\\xccL>\\x9a\\x99\\x99>\\n\\x0e\\n\\x05label\\x12\\x05\\x1a\\x03\\n\\x01\\x01',\n",
       "       b'\\n=\\n\\x10\\n\\x05index\\x12\\x07\\x1a\\x05\\n\\x03\\x00\\x01\\x02\\n\\x19\\n\\x05value\\x12\\x10\\x12\\x0e\\n\\x0c\\x00\\x00\\x00\\x00\\x00\\x00\\x00\\x00\\x00\\x00\\x00\\x00\\n\\x0e\\n\\x05label\\x12\\x05\\x1a\\x03\\n\\x01\\x00'],\n",
       "      dtype=object)"
      ]
     },
     "execution_count": 24,
     "metadata": {},
     "output_type": "execute_result"
    }
   ],
   "source": [
    "_batch_serialized_example"
   ]
  },
  {
   "cell_type": "code",
   "execution_count": 25,
   "metadata": {},
   "outputs": [
    {
     "data": {
      "text/plain": [
       "array([1, 0])"
      ]
     },
     "execution_count": 25,
     "metadata": {},
     "output_type": "execute_result"
    }
   ],
   "source": [
    "_batch_labels"
   ]
  },
  {
   "cell_type": "code",
   "execution_count": 26,
   "metadata": {},
   "outputs": [
    {
     "data": {
      "text/plain": [
       "array([[1, 2, 3],\n",
       "       [0, 1, 2]])"
      ]
     },
     "execution_count": 26,
     "metadata": {},
     "output_type": "execute_result"
    }
   ],
   "source": [
    "_batch_index"
   ]
  },
  {
   "cell_type": "code",
   "execution_count": 27,
   "metadata": {},
   "outputs": [
    {
     "data": {
      "text/plain": [
       "array([[0.1, 0.2, 0.3],\n",
       "       [0. , 0. , 0. ]], dtype=float32)"
      ]
     },
     "execution_count": 27,
     "metadata": {},
     "output_type": "execute_result"
    }
   ],
   "source": [
    "_batch_value"
   ]
  },
  {
   "cell_type": "code",
   "execution_count": null,
   "metadata": {},
   "outputs": [],
   "source": []
  },
  {
   "cell_type": "code",
   "execution_count": null,
   "metadata": {},
   "outputs": [],
   "source": []
  },
  {
   "cell_type": "markdown",
   "metadata": {},
   "source": [
    "# 参考资料\n",
    "\n",
    "- [Using TFRecords and tf.Example  |  TensorFlow Core  |  TensorFlow](https://www.tensorflow.org/tutorials/load_data/tf_records#tfrecord_files_using_tfpython_io)\n",
    "- [tf.io.parse_example  |  TensorFlow Core 1.13  |  TensorFlow](https://www.tensorflow.org/api_docs/python/tf/io/parse_example)\n",
    "- [十图详解tensorflow数据读取机制 - 知乎](https://zhuanlan.zhihu.com/p/27238630)\n",
    "- [实例介绍TensorFlow的输入流水线](https://www.zybuluo.com/Team/note/1078850)"
   ]
  }
 ],
 "metadata": {
  "kernelspec": {
   "display_name": "Python 3",
   "language": "python",
   "name": "python3"
  },
  "language_info": {
   "codemirror_mode": {
    "name": "ipython",
    "version": 3
   },
   "file_extension": ".py",
   "mimetype": "text/x-python",
   "name": "python",
   "nbconvert_exporter": "python",
   "pygments_lexer": "ipython3",
   "version": "3.6.5"
  },
  "toc": {
   "colors": {
    "hover_highlight": "#DAA520",
    "navigate_num": "#000000",
    "navigate_text": "#333333",
    "running_highlight": "#FF0000",
    "selected_highlight": "#FFD700",
    "sidebar_border": "#EEEEEE",
    "wrapper_background": "#FFFFFF"
   },
   "moveMenuLeft": true,
   "nav_menu": {
    "height": "156px",
    "width": "252px"
   },
   "navigate_menu": true,
   "number_sections": true,
   "sideBar": true,
   "threshold": 4,
   "toc_cell": false,
   "toc_section_display": "block",
   "toc_window_display": false,
   "widenNotebook": false
  }
 },
 "nbformat": 4,
 "nbformat_minor": 2
}
